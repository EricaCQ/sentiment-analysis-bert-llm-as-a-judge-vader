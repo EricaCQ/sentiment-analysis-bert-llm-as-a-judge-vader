{
 "cells": [
  {
   "cell_type": "markdown",
   "id": "ffefffc9",
   "metadata": {},
   "source": [
    "# Sentiment Classification of Restaurant Reviews using OpenAI LLM\n",
    "\n",
    "#### Function to classify the sentiment of a restaurant review using OpenAI API\n",
    "\n",
    "#### This notebook leverages OpenAI's LLMs to classify the sentiment of restaurant reviews as positive, negative or neutral. It demonstrates how to use an API-based classification approach by sending review texts to a language model and interpreting its responses. \n",
    "\n",
    "#### The goal is to generate reliable sentiment labels for supervised learning or evaluation tasks. The notebook includes a wrapper function for model calls, test examples, and dataset preprocessing for bulk classification."
   ]
  },
  {
   "cell_type": "code",
   "execution_count": null,
   "id": "93539223-f8ce-42a6-b94c-211dc5a4f5a8",
   "metadata": {},
   "outputs": [],
   "source": [
    "# Importing function from utils.py to make OpenAI API calls\n",
    "from utils import call_openai\n",
    "\n",
    "\n",
    "\n"
   ]
  },
  {
   "cell_type": "code",
   "execution_count": null,
   "id": "392783a7-1593-4d8d-b470-242da72beb36",
   "metadata": {},
   "outputs": [],
   "source": [
    "# Sending a restaurant review to the OpenAI API and returning its sentiment classification.\n",
    "\n",
    "    # Parameters:\n",
    "    #- comment (str): A string containing the restaurant review.\n",
    "\n",
    "    #Returns:\n",
    "    #- str: The sentiment classification (\"positive\", \"neutral\", or \"negative\").\n",
    "\n",
    "def target_gen(comment):\n",
    "    prompt = f\"Classify the sentiment of the following restaurant review as 'positive', 'neutral', or 'negative':\\n\\n{comment}\"\n",
    "    return call_openai(prompt)"
   ]
  },
  {
   "cell_type": "code",
   "execution_count": null,
   "id": "afff304e-c275-4695-8d0e-f829d45a433e",
   "metadata": {},
   "outputs": [
    {
     "name": "stdout",
     "output_type": "stream",
     "text": [
      "Neutral\n"
     ]
    }
   ],
   "source": [
    "#  Testing a single example with a hardcoded prompt to check OpenAI's response\n",
    "prompt = \"Classify the sentiment of this review as 'positive', 'neutral', or 'negative':\\n\\nThe food was amazing but service was slow.\"\n",
    "response = call_openai(prompt)\n",
    "print(response)"
   ]
  },
  {
   "cell_type": "code",
   "execution_count": null,
   "id": "16051b5d-88ab-47e5-af10-c88278fc5de2",
   "metadata": {},
   "outputs": [],
   "source": [
    "import pandas as pd"
   ]
  },
  {
   "cell_type": "code",
   "execution_count": null,
   "id": "044d2fa2-736c-4186-a721-f13382cc912f",
   "metadata": {},
   "outputs": [],
   "source": [
    "# # Loading the whole training dataset with flexible CSV reading options \n",
    "# to handle inconsistent formatting\n",
    "\n",
    "df = pd.read_csv(\"desafio_DS/dataset_train.csv\", sep=None,  #automatically detecting sep\n",
    "    engine=\"python\",  #accepting different seps\n",
    "    quoting=3,  # ignoring quotes\n",
    "    on_bad_lines=\"warn\"  # warning without breaking\n",
    ")"
   ]
  },
  {
   "cell_type": "code",
   "execution_count": null,
   "id": "3b0d437f-5fc0-47c8-9c4f-3bf63c63d15f",
   "metadata": {},
   "outputs": [
    {
     "name": "stdout",
     "output_type": "stream",
     "text": [
      "Index(['|input', 'Unnamed: 1'], dtype='object')\n"
     ]
    }
   ],
   "source": [
    "print(df.columns)"
   ]
  },
  {
   "cell_type": "code",
   "execution_count": null,
   "id": "c8339314-bd60-48ed-912d-22b7bc6d33cd",
   "metadata": {},
   "outputs": [],
   "source": [
    "# Renaming column with pipe symbol to \"input\"\n",
    "\n",
    "df = df.rename(columns={\"|input\": \"input\"})\n"
   ]
  },
  {
   "cell_type": "markdown",
   "id": "b2d02ed1",
   "metadata": {},
   "source": [
    "## Redefine target generator with exception handling"
   ]
  },
  {
   "cell_type": "code",
   "execution_count": null,
   "id": "eb0345b7-7229-46d6-b138-e7e90c85ce36",
   "metadata": {},
   "outputs": [],
   "source": [
    "def target_gen(comment):\n",
    "    prompt = f\"Classify the sentiment of the following restaurant review as 'positive', 'neutral', or 'negative':\\n\\n{comment}\"\n",
    "    try:\n",
    "        response = call_openai(prompt)\n",
    "        return response\n",
    "    except Exception as e:\n",
    "        print(f\"Comment with Error: {comment}\\n{e}\")\n",
    "        return \"I am not sure how to classify, need human annotator.\""
   ]
  },
  {
   "cell_type": "markdown",
   "id": "d860b600",
   "metadata": {},
   "source": [
    "#### Apply classification function to dataset"
   ]
  },
  {
   "cell_type": "code",
   "execution_count": null,
   "id": "743204d5-505b-4fdc-af4c-3bdbb1c52416",
   "metadata": {},
   "outputs": [],
   "source": [
    "df[\"target\"] = df[\"input\"].apply(target_gen)\n",
    "\n"
   ]
  },
  {
   "cell_type": "code",
   "execution_count": null,
   "id": "f1b3f4c3-19e8-43f3-a769-f0282d4e7032",
   "metadata": {},
   "outputs": [
    {
     "name": "stdout",
     "output_type": "stream",
     "text": [
      "                                                 input Unnamed: 1    target\n",
      "0    0|judging from previous posts this used to be ...        NaN  Negative\n",
      "1    1|we , there were four of us , arrived at noon...        NaN  Negative\n",
      "2    2|they never brought us complimentary noodles ...        NaN  Negative\n",
      "3    3|the food was lousy - too sweet or too salty ...        NaN  Negative\n",
      "4    4|after all that , they complained to me about...        NaN  Negative\n",
      "..                                                 ...        ...       ...\n",
      "646       646|mizu is the japenese find in grammercy .        NaN  positive\n",
      "647  647|while their kitchen food is delicious , th...        NaN  positive\n",
      "648  648|mizu is home to creative and unique rolls ...        NaN  positive\n",
      "649  649|not only is the cuisine the best around , ...        NaN  positive\n",
      "650  650|warning : you may find it difficult to din...        NaN  positive\n",
      "\n",
      "[651 rows x 3 columns]\n"
     ]
    }
   ],
   "source": [
    "print(df)"
   ]
  },
  {
   "cell_type": "code",
   "execution_count": null,
   "id": "c64dc149-84df-495a-aee3-c6fd23388f43",
   "metadata": {},
   "outputs": [],
   "source": [
    "# Separating input column from '|'\n",
    "df[['id', 'text']] = df['input'].str.split('|', n=1, expand=True)\n",
    "df = df.drop(columns=[\"input\", \"Unnamed: 1\"])\n"
   ]
  },
  {
   "cell_type": "code",
   "execution_count": null,
   "id": "a89124d6-f971-462a-8f65-82178f1c8c83",
   "metadata": {},
   "outputs": [
    {
     "name": "stdout",
     "output_type": "stream",
     "text": [
      "       target   id                                               text\n",
      "0    Negative    0  judging from previous posts this used to be a ...\n",
      "1    Negative    1  we , there were four of us , arrived at noon -...\n",
      "2    Negative    2  they never brought us complimentary noodles , ...\n",
      "3    Negative    3  the food was lousy - too sweet or too salty an...\n",
      "4    Negative    4  after all that , they complained to me about t...\n",
      "..        ...  ...                                                ...\n",
      "646  positive  646           mizu is the japenese find in grammercy .\n",
      "647  positive  647  while their kitchen food is delicious , their ...\n",
      "648  positive  648  mizu is home to creative and unique rolls not ...\n",
      "649  positive  649  not only is the cuisine the best around , the ...\n",
      "650  positive  650  warning : you may find it difficult to dine at...\n",
      "\n",
      "[651 rows x 3 columns]\n"
     ]
    }
   ],
   "source": [
    "print(df)"
   ]
  },
  {
   "cell_type": "code",
   "execution_count": null,
   "id": "7df76872-0a94-4448-8f32-035839437a21",
   "metadata": {},
   "outputs": [],
   "source": [
    "df.to_csv(\"dataset_llm_judge.csv\", index=False)\n"
   ]
  },
  {
   "cell_type": "code",
   "execution_count": null,
   "id": "cd4c44b2-8488-4e0a-99ed-4566d4dc91ec",
   "metadata": {},
   "outputs": [],
   "source": []
  }
 ],
 "metadata": {
  "kernelspec": {
   "display_name": "Python 3 (ipykernel)",
   "language": "python",
   "name": "python3"
  },
  "language_info": {
   "codemirror_mode": {
    "name": "ipython",
    "version": 3
   },
   "file_extension": ".py",
   "mimetype": "text/x-python",
   "name": "python",
   "nbconvert_exporter": "python",
   "pygments_lexer": "ipython3",
   "version": "3.13.2"
  }
 },
 "nbformat": 4,
 "nbformat_minor": 5
}
