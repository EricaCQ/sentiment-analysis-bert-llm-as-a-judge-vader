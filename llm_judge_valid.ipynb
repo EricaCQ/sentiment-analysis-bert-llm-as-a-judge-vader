{
 "cells": [
  {
   "cell_type": "markdown",
   "id": "b60efdc8",
   "metadata": {},
   "source": [
    "# Sentiment Classification of Restaurant Reviews using OpenAI LLM\n",
    "\n",
    "#### Function to classify the sentiment of a restaurant review using OpenAI API\n",
    "\n",
    "#### This notebook leverages OpenAI's LLMs to classify the sentiment of restaurant reviews as positive, negative or neutral. It demonstrates how to use an API-based classification approach by sending review texts to a language model and interpreting its responses. \n",
    "\n",
    "#### The goal is to generate reliable sentiment labels for supervised learning or evaluation tasks. The notebook includes a wrapper function for model calls, test examples, and dataset preprocessing for bulk classification. **We applied the same method as in the llm_judge_train dataset in order to evaluate Vader and Bert methods applying confusion matrix usinf the llm as a judge.**"
   ]
  },
  {
   "cell_type": "code",
   "execution_count": null,
   "id": "93539223-f8ce-42a6-b94c-211dc5a4f5a8",
   "metadata": {},
   "outputs": [],
   "source": [
    "from utils import call_openai\n",
    "\n",
    "\n",
    "\n"
   ]
  },
  {
   "cell_type": "code",
   "execution_count": 2,
   "id": "392783a7-1593-4d8d-b470-242da72beb36",
   "metadata": {},
   "outputs": [],
   "source": [
    "def target_gen(comment):\n",
    "    prompt = f\"Classify the sentiment of the following restaurant review as 'positive', 'neutral', or 'negative':\\n\\n{comment}\"\n",
    "    return call_openai(prompt)"
   ]
  },
  {
   "cell_type": "code",
   "execution_count": 3,
   "id": "afff304e-c275-4695-8d0e-f829d45a433e",
   "metadata": {},
   "outputs": [
    {
     "name": "stdout",
     "output_type": "stream",
     "text": [
      "Neutral\n"
     ]
    }
   ],
   "source": [
    "prompt = \"Classify the sentiment of this review as 'positive', 'neutral', or 'negative':\\n\\nThe food was amazing but service was slow.\"\n",
    "response = call_openai(prompt)\n",
    "print(response)"
   ]
  },
  {
   "cell_type": "code",
   "execution_count": 4,
   "id": "16051b5d-88ab-47e5-af10-c88278fc5de2",
   "metadata": {},
   "outputs": [],
   "source": [
    "import pandas as pd"
   ]
  },
  {
   "cell_type": "code",
   "execution_count": 5,
   "id": "044d2fa2-736c-4186-a721-f13382cc912f",
   "metadata": {},
   "outputs": [],
   "source": [
    "df = pd.read_csv(\"desafio_DS/dataset_valid.csv\", sep=None,  #automatically detecting sep\n",
    "    engine=\"python\",  #accepting different seps\n",
    "    quoting=3,  # ignoring quotes\n",
    "    on_bad_lines=\"warn\"  # warning without breaking\n",
    ")"
   ]
  },
  {
   "cell_type": "code",
   "execution_count": 6,
   "id": "3b0d437f-5fc0-47c8-9c4f-3bf63c63d15f",
   "metadata": {},
   "outputs": [
    {
     "name": "stdout",
     "output_type": "stream",
     "text": [
      "Index(['Unnamed: 0', 'input'], dtype='object')\n"
     ]
    }
   ],
   "source": [
    "print(df.columns)"
   ]
  },
  {
   "cell_type": "code",
   "execution_count": 7,
   "id": "c8339314-bd60-48ed-912d-22b7bc6d33cd",
   "metadata": {},
   "outputs": [],
   "source": [
    "df = df.rename(columns={\"|input\": \"input\"})\n"
   ]
  },
  {
   "cell_type": "code",
   "execution_count": 8,
   "id": "eb0345b7-7229-46d6-b138-e7e90c85ce36",
   "metadata": {},
   "outputs": [],
   "source": [
    "def target_gen(comment):\n",
    "    prompt = f\"Classify the sentiment of the following restaurant review as 'positive', 'neutral', or 'negative':\\n\\n{comment}\"\n",
    "    try:\n",
    "        response = call_openai(prompt)\n",
    "        return response\n",
    "    except Exception as e:\n",
    "        print(f\"Comment with Error: {comment}\\n{e}\")\n",
    "        return \"I am not sure how to classify, need human annotator.\""
   ]
  },
  {
   "cell_type": "code",
   "execution_count": 9,
   "id": "743204d5-505b-4fdc-af4c-3bdbb1c52416",
   "metadata": {},
   "outputs": [],
   "source": [
    "df[\"target\"] = df[\"input\"].apply(target_gen)\n",
    "\n"
   ]
  },
  {
   "cell_type": "code",
   "execution_count": 10,
   "id": "f1b3f4c3-19e8-43f3-a769-f0282d4e7032",
   "metadata": {},
   "outputs": [
    {
     "name": "stdout",
     "output_type": "stream",
     "text": [
      "     Unnamed: 0                                              input    target\n",
      "0         19784                        The pizza was really good .  positive\n",
      "1         19788  Knowledge of the chef and the waitress are bel...  Negative\n",
      "2         19792                               The service was ok .   Neutral\n",
      "3         19796  I 'm happy to have Nosh in the neighborhood an...  positive\n",
      "4         19800                    Indoor was very cozy and cute .  positive\n",
      "..          ...                                                ...       ...\n",
      "194       20560  We started with lox and mussels ( the best ive...  positive\n",
      "195       20564  The food here does a great service to the name...  positive\n",
      "196       20568  Although the tables may be closely situated , ...  positive\n",
      "197       20572         The staff is also attentive and friendly .  positive\n",
      "198       20576  And they have these home made potato chips at ...  positive\n",
      "\n",
      "[199 rows x 3 columns]\n"
     ]
    }
   ],
   "source": [
    "print(df)"
   ]
  },
  {
   "cell_type": "code",
   "execution_count": 13,
   "id": "a89124d6-f971-462a-8f65-82178f1c8c83",
   "metadata": {},
   "outputs": [
    {
     "name": "stdout",
     "output_type": "stream",
     "text": [
      "     Unnamed: 0                                              input    target\n",
      "0         19784                        The pizza was really good .  positive\n",
      "1         19788  Knowledge of the chef and the waitress are bel...  Negative\n",
      "2         19792                               The service was ok .   Neutral\n",
      "3         19796  I 'm happy to have Nosh in the neighborhood an...  positive\n",
      "4         19800                    Indoor was very cozy and cute .  positive\n",
      "..          ...                                                ...       ...\n",
      "194       20560  We started with lox and mussels ( the best ive...  positive\n",
      "195       20564  The food here does a great service to the name...  positive\n",
      "196       20568  Although the tables may be closely situated , ...  positive\n",
      "197       20572         The staff is also attentive and friendly .  positive\n",
      "198       20576  And they have these home made potato chips at ...  positive\n",
      "\n",
      "[199 rows x 3 columns]\n"
     ]
    }
   ],
   "source": [
    "print(df)"
   ]
  },
  {
   "cell_type": "code",
   "execution_count": 14,
   "id": "7df76872-0a94-4448-8f32-035839437a21",
   "metadata": {},
   "outputs": [],
   "source": [
    "df.to_csv(\"dataset_llm_judge_valid.csv\", index=False)\n"
   ]
  },
  {
   "cell_type": "code",
   "execution_count": null,
   "id": "cd4c44b2-8488-4e0a-99ed-4566d4dc91ec",
   "metadata": {},
   "outputs": [],
   "source": []
  }
 ],
 "metadata": {
  "kernelspec": {
   "display_name": "Python 3 (ipykernel)",
   "language": "python",
   "name": "python3"
  },
  "language_info": {
   "codemirror_mode": {
    "name": "ipython",
    "version": 3
   },
   "file_extension": ".py",
   "mimetype": "text/x-python",
   "name": "python",
   "nbconvert_exporter": "python",
   "pygments_lexer": "ipython3",
   "version": "3.13.2"
  }
 },
 "nbformat": 4,
 "nbformat_minor": 5
}
